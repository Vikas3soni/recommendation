{
 "cells": [
  {
   "cell_type": "code",
   "execution_count": 1,
   "metadata": {},
   "outputs": [],
   "source": [
    "import requests\n",
    "import json\n",
    "import pandas as pd\n",
    "import random\n",
    "import uuid\n",
    "import numpy as np"
   ]
  },
  {
   "cell_type": "code",
   "execution_count": 2,
   "metadata": {},
   "outputs": [],
   "source": [
    "post_data = {\n",
    "    \"limit\": 2000\n",
    "}"
   ]
  },
  {
   "cell_type": "code",
   "execution_count": 3,
   "metadata": {},
   "outputs": [],
   "source": [
    "r = requests.post(\"http://13.126.59.19:20021/api/search/VendorProducts\",data=json.dumps(post_data))"
   ]
  },
  {
   "cell_type": "code",
   "execution_count": 4,
   "metadata": {},
   "outputs": [],
   "source": [
    "result = json.loads(r.text)"
   ]
  },
  {
   "cell_type": "code",
   "execution_count": 5,
   "metadata": {},
   "outputs": [],
   "source": [
    "df = pd.io.json.json_normalize(result['products'])"
   ]
  },
  {
   "cell_type": "code",
   "execution_count": 6,
   "metadata": {},
   "outputs": [],
   "source": [
    "product_ids = df['product.id'].values.tolist()"
   ]
  },
  {
   "cell_type": "code",
   "execution_count": 115,
   "metadata": {},
   "outputs": [],
   "source": [
    "product_ids =list (set(product_ids))"
   ]
  },
  {
   "cell_type": "code",
   "execution_count": 116,
   "metadata": {},
   "outputs": [],
   "source": [
    "scores = {'like':3, 'view':1, 'cart':5, 'purchase':8}"
   ]
  },
  {
   "cell_type": "code",
   "execution_count": 117,
   "metadata": {},
   "outputs": [
    {
     "data": {
      "text/plain": [
       "{'like': 3, 'view': 1, 'cart': 5, 'purchase': 8}"
      ]
     },
     "execution_count": 117,
     "metadata": {},
     "output_type": "execute_result"
    }
   ],
   "source": [
    "scores"
   ]
  },
  {
   "cell_type": "code",
   "execution_count": 128,
   "metadata": {},
   "outputs": [],
   "source": [
    "def create_user(userId, items):\n",
    "    nLikes = random.randint(0,30)\n",
    "    nViews = random.randint(150,1000)\n",
    "    nCart = random.randint(0,7)\n",
    "    nPurchase = random.randint(0,3)\n",
    "    cartItems = random.sample(items, nCart)\n",
    "    purchaseItems = []\n",
    "    try:\n",
    "        purchaseItems = random.sample(cartItems, nPurchase)\n",
    "    except:\n",
    "        pass\n",
    "    user = {\n",
    "        'userId': userId,\n",
    "        'like': random.sample(items, nLikes),\n",
    "        'view': random.sample(items, nViews),\n",
    "        'cart': cartItems,\n",
    "        'purchase': purchaseItems\n",
    "    }\n",
    "    return user"
   ]
  },
  {
   "cell_type": "code",
   "execution_count": 129,
   "metadata": {},
   "outputs": [],
   "source": [
    "def create_userdata(no_of_users, product_ids):\n",
    "    users = list()\n",
    "    for _ in range(no_of_users):\n",
    "        users.append(create_user(str(uuid.uuid4()), product_ids))\n",
    "    return users"
   ]
  },
  {
   "cell_type": "code",
   "execution_count": 130,
   "metadata": {},
   "outputs": [],
   "source": [
    "users = create_userdata(100, product_ids)"
   ]
  },
  {
   "cell_type": "code",
   "execution_count": 131,
   "metadata": {},
   "outputs": [],
   "source": [
    "users_df = pd.io.json.json_normalize(users)"
   ]
  },
  {
   "cell_type": "code",
   "execution_count": 132,
   "metadata": {},
   "outputs": [
    {
     "data": {
      "text/html": [
       "<div>\n",
       "<style scoped>\n",
       "    .dataframe tbody tr th:only-of-type {\n",
       "        vertical-align: middle;\n",
       "    }\n",
       "\n",
       "    .dataframe tbody tr th {\n",
       "        vertical-align: top;\n",
       "    }\n",
       "\n",
       "    .dataframe thead th {\n",
       "        text-align: right;\n",
       "    }\n",
       "</style>\n",
       "<table border=\"1\" class=\"dataframe\">\n",
       "  <thead>\n",
       "    <tr style=\"text-align: right;\">\n",
       "      <th></th>\n",
       "      <th>cart</th>\n",
       "      <th>like</th>\n",
       "      <th>purchase</th>\n",
       "      <th>userId</th>\n",
       "      <th>view</th>\n",
       "    </tr>\n",
       "  </thead>\n",
       "  <tbody>\n",
       "    <tr>\n",
       "      <th>0</th>\n",
       "      <td>[87cfb72c-8eea-419c-a8f0-2dccc881a823, 224f3ce...</td>\n",
       "      <td>[141662da-aa37-4116-a21d-4feaccd58e20, 5d2aac8...</td>\n",
       "      <td>[]</td>\n",
       "      <td>cbc2ab7a-14fb-4c47-9019-c1e4da3fee6b</td>\n",
       "      <td>[e145ce76-b12d-4494-98bf-b3cc92d2012d, d3a3090...</td>\n",
       "    </tr>\n",
       "    <tr>\n",
       "      <th>1</th>\n",
       "      <td>[d930df87-d9e6-463e-ba90-729d56c94235, b103829...</td>\n",
       "      <td>[847c5132-44b4-4b6b-a5ce-438825ded343, 77503a9...</td>\n",
       "      <td>[d930df87-d9e6-463e-ba90-729d56c94235]</td>\n",
       "      <td>52517827-c48e-4f07-bad4-b084d8aa1897</td>\n",
       "      <td>[b9903893-8392-4772-9e25-413cd1800633, dd6f1e1...</td>\n",
       "    </tr>\n",
       "    <tr>\n",
       "      <th>2</th>\n",
       "      <td>[0485f15b-ac43-42f6-8e02-bf54c2ec7122, cc3a694...</td>\n",
       "      <td>[c2c75b60-795a-4f85-bac4-1cadb6e9dcb2, 61da3b7...</td>\n",
       "      <td>[cc3a6946-9de7-47b4-92d2-2fe818846a5a]</td>\n",
       "      <td>0af3407d-2ddc-45f8-bde0-b199b4691e5d</td>\n",
       "      <td>[97516f17-8ef9-4449-b68f-78224901ca2b, fdffd6a...</td>\n",
       "    </tr>\n",
       "    <tr>\n",
       "      <th>3</th>\n",
       "      <td>[174efc36-adc7-4bef-86d2-df529cee9728, 4771e44...</td>\n",
       "      <td>[c335256d-a828-4486-8706-9be79b9c11c9, eef4cd0...</td>\n",
       "      <td>[174efc36-adc7-4bef-86d2-df529cee9728]</td>\n",
       "      <td>d5842ca3-56d4-41ef-8a01-dd3ae6d4630c</td>\n",
       "      <td>[e2a5756d-9399-4b72-a7aa-aa84d7c1bf2e, 83caf40...</td>\n",
       "    </tr>\n",
       "    <tr>\n",
       "      <th>4</th>\n",
       "      <td>[0c389c13-79d7-4f2c-9d85-0c2bac5a8b52, 52dfe78...</td>\n",
       "      <td>[816652d2-55c8-4066-a753-d81186e0d144, 4f2f519...</td>\n",
       "      <td>[cdd76a15-9049-4b2c-820c-53fbd65ef068]</td>\n",
       "      <td>2f2ec14b-ef62-48a9-aa57-03df8e68ca60</td>\n",
       "      <td>[3ea2fc6a-c155-4c24-87bf-7e343e80539b, 9cd48ca...</td>\n",
       "    </tr>\n",
       "  </tbody>\n",
       "</table>\n",
       "</div>"
      ],
      "text/plain": [
       "                                                cart  \\\n",
       "0  [87cfb72c-8eea-419c-a8f0-2dccc881a823, 224f3ce...   \n",
       "1  [d930df87-d9e6-463e-ba90-729d56c94235, b103829...   \n",
       "2  [0485f15b-ac43-42f6-8e02-bf54c2ec7122, cc3a694...   \n",
       "3  [174efc36-adc7-4bef-86d2-df529cee9728, 4771e44...   \n",
       "4  [0c389c13-79d7-4f2c-9d85-0c2bac5a8b52, 52dfe78...   \n",
       "\n",
       "                                                like  \\\n",
       "0  [141662da-aa37-4116-a21d-4feaccd58e20, 5d2aac8...   \n",
       "1  [847c5132-44b4-4b6b-a5ce-438825ded343, 77503a9...   \n",
       "2  [c2c75b60-795a-4f85-bac4-1cadb6e9dcb2, 61da3b7...   \n",
       "3  [c335256d-a828-4486-8706-9be79b9c11c9, eef4cd0...   \n",
       "4  [816652d2-55c8-4066-a753-d81186e0d144, 4f2f519...   \n",
       "\n",
       "                                 purchase  \\\n",
       "0                                      []   \n",
       "1  [d930df87-d9e6-463e-ba90-729d56c94235]   \n",
       "2  [cc3a6946-9de7-47b4-92d2-2fe818846a5a]   \n",
       "3  [174efc36-adc7-4bef-86d2-df529cee9728]   \n",
       "4  [cdd76a15-9049-4b2c-820c-53fbd65ef068]   \n",
       "\n",
       "                                 userId  \\\n",
       "0  cbc2ab7a-14fb-4c47-9019-c1e4da3fee6b   \n",
       "1  52517827-c48e-4f07-bad4-b084d8aa1897   \n",
       "2  0af3407d-2ddc-45f8-bde0-b199b4691e5d   \n",
       "3  d5842ca3-56d4-41ef-8a01-dd3ae6d4630c   \n",
       "4  2f2ec14b-ef62-48a9-aa57-03df8e68ca60   \n",
       "\n",
       "                                                view  \n",
       "0  [e145ce76-b12d-4494-98bf-b3cc92d2012d, d3a3090...  \n",
       "1  [b9903893-8392-4772-9e25-413cd1800633, dd6f1e1...  \n",
       "2  [97516f17-8ef9-4449-b68f-78224901ca2b, fdffd6a...  \n",
       "3  [e2a5756d-9399-4b72-a7aa-aa84d7c1bf2e, 83caf40...  \n",
       "4  [3ea2fc6a-c155-4c24-87bf-7e343e80539b, 9cd48ca...  "
      ]
     },
     "execution_count": 132,
     "metadata": {},
     "output_type": "execute_result"
    }
   ],
   "source": [
    "users_df.head()"
   ]
  },
  {
   "cell_type": "code",
   "execution_count": 133,
   "metadata": {},
   "outputs": [],
   "source": [
    "ui_mat = np.zeros((len(users), len(product_ids)))\n",
    "ui_df = pd.DataFrame(ui_mat, index=users_df['userId'], columns=product_ids)"
   ]
  },
  {
   "cell_type": "code",
   "execution_count": 134,
   "metadata": {},
   "outputs": [],
   "source": [
    "for user in users:\n",
    "    for key in scores.keys():\n",
    "        for value in user[key]:\n",
    "            ui_df.loc[user['userId'],value] += scores[key]"
   ]
  },
  {
   "cell_type": "markdown",
   "metadata": {},
   "source": [
    "#### User-based Recommendation Systems"
   ]
  },
  {
   "cell_type": "code",
   "execution_count": 135,
   "metadata": {},
   "outputs": [],
   "source": [
    "from sklearn.metrics import pairwise_distances"
   ]
  },
  {
   "cell_type": "code",
   "execution_count": 136,
   "metadata": {},
   "outputs": [],
   "source": [
    "# get cosine similarities for matrix\n",
    "cosine_sim = 1-pairwise_distances(ui_df, metric=\"cosine\")"
   ]
  },
  {
   "cell_type": "code",
   "execution_count": 137,
   "metadata": {},
   "outputs": [
    {
     "data": {
      "text/html": [
       "<div>\n",
       "<style scoped>\n",
       "    .dataframe tbody tr th:only-of-type {\n",
       "        vertical-align: middle;\n",
       "    }\n",
       "\n",
       "    .dataframe tbody tr th {\n",
       "        vertical-align: top;\n",
       "    }\n",
       "\n",
       "    .dataframe thead th {\n",
       "        text-align: right;\n",
       "    }\n",
       "</style>\n",
       "<table border=\"1\" class=\"dataframe\">\n",
       "  <thead>\n",
       "    <tr style=\"text-align: right;\">\n",
       "      <th></th>\n",
       "      <th>0</th>\n",
       "      <th>1</th>\n",
       "      <th>2</th>\n",
       "      <th>3</th>\n",
       "      <th>4</th>\n",
       "      <th>5</th>\n",
       "      <th>6</th>\n",
       "      <th>7</th>\n",
       "      <th>8</th>\n",
       "      <th>9</th>\n",
       "      <th>...</th>\n",
       "      <th>90</th>\n",
       "      <th>91</th>\n",
       "      <th>92</th>\n",
       "      <th>93</th>\n",
       "      <th>94</th>\n",
       "      <th>95</th>\n",
       "      <th>96</th>\n",
       "      <th>97</th>\n",
       "      <th>98</th>\n",
       "      <th>99</th>\n",
       "    </tr>\n",
       "  </thead>\n",
       "  <tbody>\n",
       "    <tr>\n",
       "      <th>0</th>\n",
       "      <td>1.000000</td>\n",
       "      <td>0.459877</td>\n",
       "      <td>0.407417</td>\n",
       "      <td>0.393527</td>\n",
       "      <td>0.409096</td>\n",
       "      <td>0.558977</td>\n",
       "      <td>0.499804</td>\n",
       "      <td>0.573767</td>\n",
       "      <td>0.311382</td>\n",
       "      <td>0.447005</td>\n",
       "      <td>...</td>\n",
       "      <td>0.356094</td>\n",
       "      <td>0.319940</td>\n",
       "      <td>0.503511</td>\n",
       "      <td>0.438843</td>\n",
       "      <td>0.404423</td>\n",
       "      <td>0.230504</td>\n",
       "      <td>0.442037</td>\n",
       "      <td>0.187475</td>\n",
       "      <td>0.445162</td>\n",
       "      <td>0.405722</td>\n",
       "    </tr>\n",
       "    <tr>\n",
       "      <th>1</th>\n",
       "      <td>0.459877</td>\n",
       "      <td>1.000000</td>\n",
       "      <td>0.327659</td>\n",
       "      <td>0.331401</td>\n",
       "      <td>0.366494</td>\n",
       "      <td>0.449041</td>\n",
       "      <td>0.401221</td>\n",
       "      <td>0.476627</td>\n",
       "      <td>0.294290</td>\n",
       "      <td>0.377083</td>\n",
       "      <td>...</td>\n",
       "      <td>0.269012</td>\n",
       "      <td>0.279500</td>\n",
       "      <td>0.458750</td>\n",
       "      <td>0.385298</td>\n",
       "      <td>0.312713</td>\n",
       "      <td>0.174873</td>\n",
       "      <td>0.396412</td>\n",
       "      <td>0.141945</td>\n",
       "      <td>0.350568</td>\n",
       "      <td>0.318522</td>\n",
       "    </tr>\n",
       "    <tr>\n",
       "      <th>2</th>\n",
       "      <td>0.407417</td>\n",
       "      <td>0.327659</td>\n",
       "      <td>1.000000</td>\n",
       "      <td>0.337509</td>\n",
       "      <td>0.317814</td>\n",
       "      <td>0.429517</td>\n",
       "      <td>0.387258</td>\n",
       "      <td>0.429598</td>\n",
       "      <td>0.261169</td>\n",
       "      <td>0.359478</td>\n",
       "      <td>...</td>\n",
       "      <td>0.254263</td>\n",
       "      <td>0.233890</td>\n",
       "      <td>0.409711</td>\n",
       "      <td>0.318610</td>\n",
       "      <td>0.263222</td>\n",
       "      <td>0.186226</td>\n",
       "      <td>0.346919</td>\n",
       "      <td>0.163688</td>\n",
       "      <td>0.332820</td>\n",
       "      <td>0.285421</td>\n",
       "    </tr>\n",
       "    <tr>\n",
       "      <th>3</th>\n",
       "      <td>0.393527</td>\n",
       "      <td>0.331401</td>\n",
       "      <td>0.337509</td>\n",
       "      <td>1.000000</td>\n",
       "      <td>0.311823</td>\n",
       "      <td>0.411296</td>\n",
       "      <td>0.411340</td>\n",
       "      <td>0.471953</td>\n",
       "      <td>0.232950</td>\n",
       "      <td>0.349751</td>\n",
       "      <td>...</td>\n",
       "      <td>0.214091</td>\n",
       "      <td>0.215546</td>\n",
       "      <td>0.400567</td>\n",
       "      <td>0.357818</td>\n",
       "      <td>0.263245</td>\n",
       "      <td>0.135528</td>\n",
       "      <td>0.367876</td>\n",
       "      <td>0.122522</td>\n",
       "      <td>0.316012</td>\n",
       "      <td>0.287617</td>\n",
       "    </tr>\n",
       "    <tr>\n",
       "      <th>4</th>\n",
       "      <td>0.409096</td>\n",
       "      <td>0.366494</td>\n",
       "      <td>0.317814</td>\n",
       "      <td>0.311823</td>\n",
       "      <td>1.000000</td>\n",
       "      <td>0.399672</td>\n",
       "      <td>0.398336</td>\n",
       "      <td>0.440879</td>\n",
       "      <td>0.206538</td>\n",
       "      <td>0.341638</td>\n",
       "      <td>...</td>\n",
       "      <td>0.232596</td>\n",
       "      <td>0.239933</td>\n",
       "      <td>0.397872</td>\n",
       "      <td>0.334461</td>\n",
       "      <td>0.309549</td>\n",
       "      <td>0.211849</td>\n",
       "      <td>0.369668</td>\n",
       "      <td>0.182061</td>\n",
       "      <td>0.340850</td>\n",
       "      <td>0.305189</td>\n",
       "    </tr>\n",
       "  </tbody>\n",
       "</table>\n",
       "<p>5 rows × 100 columns</p>\n",
       "</div>"
      ],
      "text/plain": [
       "         0         1         2         3         4         5         6   \\\n",
       "0  1.000000  0.459877  0.407417  0.393527  0.409096  0.558977  0.499804   \n",
       "1  0.459877  1.000000  0.327659  0.331401  0.366494  0.449041  0.401221   \n",
       "2  0.407417  0.327659  1.000000  0.337509  0.317814  0.429517  0.387258   \n",
       "3  0.393527  0.331401  0.337509  1.000000  0.311823  0.411296  0.411340   \n",
       "4  0.409096  0.366494  0.317814  0.311823  1.000000  0.399672  0.398336   \n",
       "\n",
       "         7         8         9     ...           90        91        92  \\\n",
       "0  0.573767  0.311382  0.447005    ...     0.356094  0.319940  0.503511   \n",
       "1  0.476627  0.294290  0.377083    ...     0.269012  0.279500  0.458750   \n",
       "2  0.429598  0.261169  0.359478    ...     0.254263  0.233890  0.409711   \n",
       "3  0.471953  0.232950  0.349751    ...     0.214091  0.215546  0.400567   \n",
       "4  0.440879  0.206538  0.341638    ...     0.232596  0.239933  0.397872   \n",
       "\n",
       "         93        94        95        96        97        98        99  \n",
       "0  0.438843  0.404423  0.230504  0.442037  0.187475  0.445162  0.405722  \n",
       "1  0.385298  0.312713  0.174873  0.396412  0.141945  0.350568  0.318522  \n",
       "2  0.318610  0.263222  0.186226  0.346919  0.163688  0.332820  0.285421  \n",
       "3  0.357818  0.263245  0.135528  0.367876  0.122522  0.316012  0.287617  \n",
       "4  0.334461  0.309549  0.211849  0.369668  0.182061  0.340850  0.305189  \n",
       "\n",
       "[5 rows x 100 columns]"
      ]
     },
     "execution_count": 137,
     "metadata": {},
     "output_type": "execute_result"
    }
   ],
   "source": [
    "pd.DataFrame(cosine_sim).head()"
   ]
  },
  {
   "cell_type": "code",
   "execution_count": 138,
   "metadata": {},
   "outputs": [],
   "source": [
    "#get pearson similarities for ratings matrix M\n",
    "pearson_sim = 1-pairwise_distances(ui_df, metric=\"correlation\")"
   ]
  },
  {
   "cell_type": "code",
   "execution_count": 139,
   "metadata": {},
   "outputs": [
    {
     "data": {
      "text/html": [
       "<div>\n",
       "<style scoped>\n",
       "    .dataframe tbody tr th:only-of-type {\n",
       "        vertical-align: middle;\n",
       "    }\n",
       "\n",
       "    .dataframe tbody tr th {\n",
       "        vertical-align: top;\n",
       "    }\n",
       "\n",
       "    .dataframe thead th {\n",
       "        text-align: right;\n",
       "    }\n",
       "</style>\n",
       "<table border=\"1\" class=\"dataframe\">\n",
       "  <thead>\n",
       "    <tr style=\"text-align: right;\">\n",
       "      <th></th>\n",
       "      <th>0</th>\n",
       "      <th>1</th>\n",
       "      <th>2</th>\n",
       "      <th>3</th>\n",
       "      <th>4</th>\n",
       "      <th>5</th>\n",
       "      <th>6</th>\n",
       "      <th>7</th>\n",
       "      <th>8</th>\n",
       "      <th>9</th>\n",
       "      <th>...</th>\n",
       "      <th>90</th>\n",
       "      <th>91</th>\n",
       "      <th>92</th>\n",
       "      <th>93</th>\n",
       "      <th>94</th>\n",
       "      <th>95</th>\n",
       "      <th>96</th>\n",
       "      <th>97</th>\n",
       "      <th>98</th>\n",
       "      <th>99</th>\n",
       "    </tr>\n",
       "  </thead>\n",
       "  <tbody>\n",
       "    <tr>\n",
       "      <th>0</th>\n",
       "      <td>1.000000</td>\n",
       "      <td>0.027297</td>\n",
       "      <td>-0.007653</td>\n",
       "      <td>-0.017858</td>\n",
       "      <td>0.007614</td>\n",
       "      <td>0.044063</td>\n",
       "      <td>0.004807</td>\n",
       "      <td>-0.008425</td>\n",
       "      <td>0.004886</td>\n",
       "      <td>-0.005759</td>\n",
       "      <td>...</td>\n",
       "      <td>0.037120</td>\n",
       "      <td>0.024330</td>\n",
       "      <td>-0.024539</td>\n",
       "      <td>-0.004550</td>\n",
       "      <td>0.026375</td>\n",
       "      <td>0.036087</td>\n",
       "      <td>-0.023497</td>\n",
       "      <td>-0.013953</td>\n",
       "      <td>0.028064</td>\n",
       "      <td>0.020286</td>\n",
       "    </tr>\n",
       "    <tr>\n",
       "      <th>1</th>\n",
       "      <td>0.027297</td>\n",
       "      <td>1.000000</td>\n",
       "      <td>-0.030617</td>\n",
       "      <td>-0.014336</td>\n",
       "      <td>0.037836</td>\n",
       "      <td>-0.010713</td>\n",
       "      <td>-0.032420</td>\n",
       "      <td>-0.022310</td>\n",
       "      <td>0.047531</td>\n",
       "      <td>-0.004651</td>\n",
       "      <td>...</td>\n",
       "      <td>-0.017736</td>\n",
       "      <td>0.031007</td>\n",
       "      <td>0.042534</td>\n",
       "      <td>0.020315</td>\n",
       "      <td>-0.023626</td>\n",
       "      <td>0.000488</td>\n",
       "      <td>0.020496</td>\n",
       "      <td>-0.031700</td>\n",
       "      <td>-0.018978</td>\n",
       "      <td>-0.021219</td>\n",
       "    </tr>\n",
       "    <tr>\n",
       "      <th>2</th>\n",
       "      <td>-0.007653</td>\n",
       "      <td>-0.030617</td>\n",
       "      <td>1.000000</td>\n",
       "      <td>0.032414</td>\n",
       "      <td>0.002490</td>\n",
       "      <td>0.015968</td>\n",
       "      <td>-0.002019</td>\n",
       "      <td>-0.042561</td>\n",
       "      <td>0.027294</td>\n",
       "      <td>0.012281</td>\n",
       "      <td>...</td>\n",
       "      <td>-0.008393</td>\n",
       "      <td>-0.005519</td>\n",
       "      <td>0.012382</td>\n",
       "      <td>-0.039858</td>\n",
       "      <td>-0.058494</td>\n",
       "      <td>0.031382</td>\n",
       "      <td>-0.012696</td>\n",
       "      <td>0.012683</td>\n",
       "      <td>-0.004073</td>\n",
       "      <td>-0.032232</td>\n",
       "    </tr>\n",
       "    <tr>\n",
       "      <th>3</th>\n",
       "      <td>-0.017858</td>\n",
       "      <td>-0.014336</td>\n",
       "      <td>0.032414</td>\n",
       "      <td>1.000000</td>\n",
       "      <td>0.002705</td>\n",
       "      <td>-0.002170</td>\n",
       "      <td>0.050264</td>\n",
       "      <td>0.059255</td>\n",
       "      <td>-0.004220</td>\n",
       "      <td>0.007752</td>\n",
       "      <td>...</td>\n",
       "      <td>-0.055857</td>\n",
       "      <td>-0.023641</td>\n",
       "      <td>0.010041</td>\n",
       "      <td>0.030077</td>\n",
       "      <td>-0.049501</td>\n",
       "      <td>-0.028586</td>\n",
       "      <td>0.030425</td>\n",
       "      <td>-0.035145</td>\n",
       "      <td>-0.019370</td>\n",
       "      <td>-0.020213</td>\n",
       "    </tr>\n",
       "    <tr>\n",
       "      <th>4</th>\n",
       "      <td>0.007614</td>\n",
       "      <td>0.037836</td>\n",
       "      <td>0.002490</td>\n",
       "      <td>0.002705</td>\n",
       "      <td>1.000000</td>\n",
       "      <td>-0.024918</td>\n",
       "      <td>0.027235</td>\n",
       "      <td>-0.004596</td>\n",
       "      <td>-0.040156</td>\n",
       "      <td>-0.006025</td>\n",
       "      <td>...</td>\n",
       "      <td>-0.031701</td>\n",
       "      <td>0.007915</td>\n",
       "      <td>0.003745</td>\n",
       "      <td>-0.006608</td>\n",
       "      <td>0.015433</td>\n",
       "      <td>0.066778</td>\n",
       "      <td>0.031875</td>\n",
       "      <td>0.038841</td>\n",
       "      <td>0.016480</td>\n",
       "      <td>0.003873</td>\n",
       "    </tr>\n",
       "  </tbody>\n",
       "</table>\n",
       "<p>5 rows × 100 columns</p>\n",
       "</div>"
      ],
      "text/plain": [
       "         0         1         2         3         4         5         6   \\\n",
       "0  1.000000  0.027297 -0.007653 -0.017858  0.007614  0.044063  0.004807   \n",
       "1  0.027297  1.000000 -0.030617 -0.014336  0.037836 -0.010713 -0.032420   \n",
       "2 -0.007653 -0.030617  1.000000  0.032414  0.002490  0.015968 -0.002019   \n",
       "3 -0.017858 -0.014336  0.032414  1.000000  0.002705 -0.002170  0.050264   \n",
       "4  0.007614  0.037836  0.002490  0.002705  1.000000 -0.024918  0.027235   \n",
       "\n",
       "         7         8         9     ...           90        91        92  \\\n",
       "0 -0.008425  0.004886 -0.005759    ...     0.037120  0.024330 -0.024539   \n",
       "1 -0.022310  0.047531 -0.004651    ...    -0.017736  0.031007  0.042534   \n",
       "2 -0.042561  0.027294  0.012281    ...    -0.008393 -0.005519  0.012382   \n",
       "3  0.059255 -0.004220  0.007752    ...    -0.055857 -0.023641  0.010041   \n",
       "4 -0.004596 -0.040156 -0.006025    ...    -0.031701  0.007915  0.003745   \n",
       "\n",
       "         93        94        95        96        97        98        99  \n",
       "0 -0.004550  0.026375  0.036087 -0.023497 -0.013953  0.028064  0.020286  \n",
       "1  0.020315 -0.023626  0.000488  0.020496 -0.031700 -0.018978 -0.021219  \n",
       "2 -0.039858 -0.058494  0.031382 -0.012696  0.012683 -0.004073 -0.032232  \n",
       "3  0.030077 -0.049501 -0.028586  0.030425 -0.035145 -0.019370 -0.020213  \n",
       "4 -0.006608  0.015433  0.066778  0.031875  0.038841  0.016480  0.003873  \n",
       "\n",
       "[5 rows x 100 columns]"
      ]
     },
     "execution_count": 139,
     "metadata": {},
     "output_type": "execute_result"
    }
   ],
   "source": [
    "pd.DataFrame(pearson_sim).head()"
   ]
  },
  {
   "cell_type": "code",
   "execution_count": 140,
   "metadata": {},
   "outputs": [],
   "source": [
    "from sklearn.neighbors import NearestNeighbors"
   ]
  },
  {
   "cell_type": "code",
   "execution_count": 141,
   "metadata": {},
   "outputs": [],
   "source": [
    "# This function finds k similar users given the user_id and ratings matrix\n",
    "# Note that the similarities are same as obtained via using pairwise_distances\n",
    "def findksimilarusers(user_id, ratings, metric = 'cosine', k=4):\n",
    "    similarities=[]\n",
    "    indices=[]\n",
    "    model_knn = NearestNeighbors(metric = metric, algorithm = 'brute')\n",
    "    model_knn.fit(ratings)\n",
    "\n",
    "    distances, indices = model_knn.kneighbors(ratings.loc[user_id, :].values.reshape(1, -1), n_neighbors = k+1)\n",
    "    similarities = 1-distances.flatten()\n",
    "    print('{0} most similar users for User {1}:\\n'.format(k,user_id))\n",
    "    for i in range(0, len(indices.flatten())):\n",
    "        if ratings.index[indices.flatten()[i]] == user_id:\n",
    "            continue\n",
    "\n",
    "        else:\n",
    "            print('{0}: User {1}, with similarity of {2}'.format(i, ui_df.index[indices.flatten()[i]], similarities.flatten()[i]))\n",
    "\n",
    "    return similarities,indices"
   ]
  },
  {
   "cell_type": "code",
   "execution_count": 149,
   "metadata": {},
   "outputs": [],
   "source": [
    "user_id = 'cbc2ab7a-14fb-4c47-9019-c1e4da3fee6b'\n",
    "item_id = '157083ff-74bf-4aea-ab3e-7d115f94563d'"
   ]
  },
  {
   "cell_type": "code",
   "execution_count": 145,
   "metadata": {},
   "outputs": [
    {
     "name": "stdout",
     "output_type": "stream",
     "text": [
      "4 most similar users for User cbc2ab7a-14fb-4c47-9019-c1e4da3fee6b:\n",
      "\n",
      "1: User 30887377-cbf1-4286-b56c-d42c4d6a12ed, with similarity of 0.5954361387198936\n",
      "2: User 6fc798f1-13d9-47f1-80f2-17cda0300849, with similarity of 0.5854642920463706\n",
      "3: User 8eb7257f-3b54-4c83-a319-a11a6d2e6609, with similarity of 0.5737674091335132\n",
      "4: User 9a34767f-4604-4033-b1af-b8d0a5aabd73, with similarity of 0.5701188543609923\n"
     ]
    }
   ],
   "source": [
    "similarities,indices = findksimilarusers(user_id,ui_df, metric='cosine')"
   ]
  },
  {
   "cell_type": "code",
   "execution_count": 146,
   "metadata": {},
   "outputs": [
    {
     "name": "stdout",
     "output_type": "stream",
     "text": [
      "4 most similar users for User cbc2ab7a-14fb-4c47-9019-c1e4da3fee6b:\n",
      "\n",
      "1: User 91055685-3734-4a14-9f98-8ce200d04569, with similarity of 0.059365348556774666\n",
      "2: User b1a9e229-f586-465b-ae00-0423e2379f01, with similarity of 0.05610771570808015\n",
      "3: User 3e5d19f4-ec68-4363-bb88-b9106857b27c, with similarity of 0.055612261299321064\n",
      "4: User bc4d3eec-8f08-4a39-9719-e5cf20050cf8, with similarity of 0.05319956623887878\n"
     ]
    }
   ],
   "source": [
    "similarities,indices = findksimilarusers(user_id,ui_df, metric='correlation')"
   ]
  },
  {
   "cell_type": "code",
   "execution_count": 150,
   "metadata": {},
   "outputs": [],
   "source": [
    "#This function predicts rating for specified user-item combination based on user-based approach\n",
    "def predict_userbased(user_id, item_id, ratings, metric = 'cosine', k=4):\n",
    "    prediction=0\n",
    "    similarities, indices=findksimilarusers(user_id, ratings,metric, k) #similar users based on cosine similarity\n",
    "    mean_rating = ratings.loc[user_id,:].mean()\n",
    "    sum_wt = np.sum(similarities)-1\n",
    "    product=1\n",
    "    wtd_sum = 0\n",
    "\n",
    "    for i in range(0, len(indices.flatten())):\n",
    "        if ratings.index[indices.flatten()[i]] == user_id:\n",
    "            continue\n",
    "        else: \n",
    "            ratings_diff = ratings.loc[ratings.index[indices.flatten()[i]],item_id]-np.mean(ratings.loc[ratings.index[indices.flatten()[i]],:])\n",
    "            product = ratings_diff * (similarities[i])\n",
    "            wtd_sum = wtd_sum + product\n",
    "\n",
    "    prediction = int(round(mean_rating + (wtd_sum/sum_wt)))\n",
    "    print ('\\nPredicted rating for user {0} -> item {1}: {2}'.format(user_id,item_id,prediction))\n",
    "\n",
    "    return prediction"
   ]
  },
  {
   "cell_type": "code",
   "execution_count": 152,
   "metadata": {},
   "outputs": [
    {
     "name": "stdout",
     "output_type": "stream",
     "text": [
      "4 most similar users for User cbc2ab7a-14fb-4c47-9019-c1e4da3fee6b:\n",
      "\n",
      "1: User 30887377-cbf1-4286-b56c-d42c4d6a12ed, with similarity of 0.5954361387198936\n",
      "2: User 6fc798f1-13d9-47f1-80f2-17cda0300849, with similarity of 0.5854642920463706\n",
      "3: User 8eb7257f-3b54-4c83-a319-a11a6d2e6609, with similarity of 0.5737674091335132\n",
      "4: User 9a34767f-4604-4033-b1af-b8d0a5aabd73, with similarity of 0.5701188543609923\n",
      "\n",
      "Predicted rating for user cbc2ab7a-14fb-4c47-9019-c1e4da3fee6b -> item 157083ff-74bf-4aea-ab3e-7d115f94563d: 1\n"
     ]
    },
    {
     "data": {
      "text/plain": [
       "1"
      ]
     },
     "execution_count": 152,
     "metadata": {},
     "output_type": "execute_result"
    }
   ],
   "source": [
    "predict_userbased(user_id, item_id, ui_df)"
   ]
  },
  {
   "cell_type": "markdown",
   "metadata": {},
   "source": [
    "#### Item-based Recommendation Systems"
   ]
  },
  {
   "cell_type": "code",
   "execution_count": 154,
   "metadata": {},
   "outputs": [],
   "source": [
    "#This function finds k similar items given the item_id and ratings matrix\n",
    "\n",
    "def findksimilaritems(item_id, ratings, metric = 'cosine', k=4):\n",
    "    similarities=[]\n",
    "    indices=[]\n",
    "    ratings=ratings.T\n",
    "    model_knn = NearestNeighbors(metric = metric, algorithm = 'brute')\n",
    "    model_knn.fit(ratings)\n",
    "\n",
    "    distances, indices = model_knn.kneighbors(ratings.loc[item_id, :].values.reshape(1, -1), n_neighbors = k+1)\n",
    "    similarities = 1-distances.flatten()\n",
    "    print('{0} most similar items for item {1}:\\n'.format(k,item_id))\n",
    "    for i in range(0, len(indices.flatten())):\n",
    "        if ratings.index[indices.flatten()[i]] == item_id:\n",
    "            continue\n",
    "        else:\n",
    "            print('{0}: Item {1} :, with similarity of {2}'.format(i,ratings.index[indices.flatten()[i]], similarities.flatten()[i]))\n",
    "    return similarities,indices"
   ]
  },
  {
   "cell_type": "code",
   "execution_count": 155,
   "metadata": {},
   "outputs": [
    {
     "name": "stdout",
     "output_type": "stream",
     "text": [
      "4 most similar items for item 157083ff-74bf-4aea-ab3e-7d115f94563d:\n",
      "\n",
      "1: Item 223c795b-edc8-4e05-8fa3-25b53524ffaa :, with similarity of 0.6857843623265747\n",
      "2: Item 352f1f59-2f51-46a6-93a2-f19f01dded02 :, with similarity of 0.6733237089254913\n",
      "3: Item 27a8613e-c644-4751-944a-c34230ec4038 :, with similarity of 0.6676381504812229\n",
      "4: Item 1950c5eb-7a2b-41b2-817f-0dafaa628f00 :, with similarity of 0.6607569627877491\n"
     ]
    }
   ],
   "source": [
    "similarities,indices=findksimilaritems(item_id,ui_df)"
   ]
  },
  {
   "cell_type": "code",
   "execution_count": 156,
   "metadata": {},
   "outputs": [],
   "source": [
    "# This function predicts the rating for specified user-item combination based on item-based approach\n",
    "\n",
    "def predict_itembased(user_id, item_id, ratings, metric = 'cosine', k=4):\n",
    "    prediction= wtd_sum =0\n",
    "    similarities, indices=findksimilaritems(item_id, ratings) #similar users based on correlation coefficients\n",
    "    sum_wt = np.sum(similarities)-1\n",
    "    product=1\n",
    "    for i in range(0, len(indices.flatten())):\n",
    "        if ui_df.columns[indices.flatten()[i]] == item_id:\n",
    "            continue;\n",
    "        else:\n",
    "            product = ratings.loc[user_id,ratings.columns[indices.flatten()[i]]] * (similarities[i])\n",
    "            wtd_sum = wtd_sum + product\n",
    "\n",
    "    prediction = int(round(wtd_sum/sum_wt))\n",
    "    print ('\\nPredicted rating for user {0} -> item {1}: {2}'.format(user_id,item_id,prediction))\n",
    "    return prediction"
   ]
  },
  {
   "cell_type": "code",
   "execution_count": 157,
   "metadata": {},
   "outputs": [
    {
     "name": "stdout",
     "output_type": "stream",
     "text": [
      "4 most similar items for item 157083ff-74bf-4aea-ab3e-7d115f94563d:\n",
      "\n",
      "1: Item 223c795b-edc8-4e05-8fa3-25b53524ffaa :, with similarity of 0.6857843623265747\n",
      "2: Item 352f1f59-2f51-46a6-93a2-f19f01dded02 :, with similarity of 0.6733237089254913\n",
      "3: Item 27a8613e-c644-4751-944a-c34230ec4038 :, with similarity of 0.6676381504812229\n",
      "4: Item 1950c5eb-7a2b-41b2-817f-0dafaa628f00 :, with similarity of 0.6607569627877491\n",
      "\n",
      "Predicted rating for user cbc2ab7a-14fb-4c47-9019-c1e4da3fee6b -> item 157083ff-74bf-4aea-ab3e-7d115f94563d: 0\n"
     ]
    }
   ],
   "source": [
    "prediction = predict_itembased(user_id,item_id,ui_df)"
   ]
  },
  {
   "cell_type": "code",
   "execution_count": 83,
   "metadata": {},
   "outputs": [],
   "source": [
    "M = np.asarray([[3,7,4,9,9,7], \n",
    "                [7,0,5,3,8,8],\n",
    "               [7,5,5,0,8,4],\n",
    "               [5,6,8,5,9,8],\n",
    "               [5,8,8,8,10,9],\n",
    "               [7,7,0,4,7,8]])\n",
    "M=pd.DataFrame(M, index=ui_df.index[:6], columns=ui_df.columns[:6])"
   ]
  },
  {
   "cell_type": "code",
   "execution_count": 142,
   "metadata": {},
   "outputs": [
    {
     "data": {
      "text/plain": [
       "Index(['cbc2ab7a-14fb-4c47-9019-c1e4da3fee6b',\n",
       "       '52517827-c48e-4f07-bad4-b084d8aa1897',\n",
       "       '0af3407d-2ddc-45f8-bde0-b199b4691e5d',\n",
       "       'd5842ca3-56d4-41ef-8a01-dd3ae6d4630c',\n",
       "       '2f2ec14b-ef62-48a9-aa57-03df8e68ca60',\n",
       "       '0af849ae-4fe2-492c-8568-4a4209e7ae50'],\n",
       "      dtype='object', name='userId')"
      ]
     },
     "execution_count": 142,
     "metadata": {},
     "output_type": "execute_result"
    }
   ],
   "source": [
    "ui_df.index[:6]"
   ]
  },
  {
   "cell_type": "code",
   "execution_count": 143,
   "metadata": {},
   "outputs": [
    {
     "data": {
      "text/plain": [
       "Index(['7780831e-f479-47d9-b056-f73911c04e05',\n",
       "       '9a7e73c8-df9a-4bc8-9669-871790d11ee9',\n",
       "       '157083ff-74bf-4aea-ab3e-7d115f94563d',\n",
       "       '7bf3ab8c-c277-415b-bb91-3bc269cf7a4a',\n",
       "       'ab2838d9-5655-4c39-a9b2-9a4ca40fd2c9',\n",
       "       '6b734f0b-96e9-4324-a6a1-ff3e219cbf26'],\n",
       "      dtype='object')"
      ]
     },
     "execution_count": 143,
     "metadata": {},
     "output_type": "execute_result"
    }
   ],
   "source": [
    "ui_df.columns[:6]"
   ]
  },
  {
   "cell_type": "code",
   "execution_count": null,
   "metadata": {},
   "outputs": [],
   "source": []
  }
 ],
 "metadata": {
  "kernelspec": {
   "display_name": "Python 3",
   "language": "python",
   "name": "python3"
  },
  "language_info": {
   "codemirror_mode": {
    "name": "ipython",
    "version": 3
   },
   "file_extension": ".py",
   "mimetype": "text/x-python",
   "name": "python",
   "nbconvert_exporter": "python",
   "pygments_lexer": "ipython3",
   "version": "3.7.1"
  }
 },
 "nbformat": 4,
 "nbformat_minor": 2
}
