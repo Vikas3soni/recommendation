{
 "cells": [
  {
   "cell_type": "code",
   "execution_count": 1,
   "metadata": {},
   "outputs": [],
   "source": [
    "from pymongo import MongoClient"
   ]
  },
  {
   "cell_type": "code",
   "execution_count": 2,
   "metadata": {},
   "outputs": [],
   "source": [
    "# Create connection with Mongo to Get the Data\n",
    "client = MongoClient('mongodb://13.126.59.19:27018/products')\n",
    "db = client.products\n",
    "products = db.products"
   ]
  },
  {
   "cell_type": "code",
   "execution_count": 3,
   "metadata": {},
   "outputs": [],
   "source": [
    "# Get the data into a list\n",
    "data = list()\n",
    "for record in products.find():\n",
    "     data.append(record)"
   ]
  },
  {
   "cell_type": "code",
   "execution_count": 4,
   "metadata": {},
   "outputs": [
    {
     "data": {
      "text/plain": [
       "{'_id': ObjectId('5c41e82d0385c8710e4ae547'),\n",
       " 'id': 'e7a780c3-502c-405a-9d2c-9e9eb0b638f5',\n",
       " 'sku': 'ae3412ff-3693-45fe-ac24-2a23fad40a9e',\n",
       " 'name': 'Mum Disbud XmasGreen Regular Wide 110 Cm Procona ',\n",
       " 'shortdescription': '',\n",
       " 'description': '',\n",
       " 'group': 'Fresh flowers',\n",
       " 'subgroup': 'Mum Disbud',\n",
       " 'variety': 'H30',\n",
       " 'grade': 'Regular Wide',\n",
       " 'color': 'XmasGreen',\n",
       " 'length': '110 Cm',\n",
       " 'boxtype': 'Procona ',\n",
       " 'active': False,\n",
       " 'images': ['https://s3.ap-south-1.amazonaws.com/aob-deverp/rose-images/Freedom.jpg',\n",
       "  'https://s3.ap-south-1.amazonaws.com/aob-deverp/rose-images/Marlyse+Rose.jpg',\n",
       "  'https://s3.ap-south-1.amazonaws.com/aob-deverp/rose-images/Marlyse+Rose.jpg'],\n",
       " 'xxx_nounkeyedliteral': {},\n",
       " 'xxx_unrecognized': b'',\n",
       " 'xxx_sizecache': 0}"
      ]
     },
     "execution_count": 4,
     "metadata": {},
     "output_type": "execute_result"
    }
   ],
   "source": [
    "# Let's see the first object.\n",
    "data[0]"
   ]
  },
  {
   "cell_type": "code",
   "execution_count": 32,
   "metadata": {},
   "outputs": [],
   "source": [
    "import pandas as pd\n",
    "import numpy as np"
   ]
  },
  {
   "cell_type": "code",
   "execution_count": 6,
   "metadata": {},
   "outputs": [],
   "source": [
    "import re"
   ]
  },
  {
   "cell_type": "code",
   "execution_count": 7,
   "metadata": {},
   "outputs": [],
   "source": [
    "def get_number(x, i=-1):\n",
    "    numbers = re.findall(r'\\d+', x)\n",
    "    if len(numbers)>0:\n",
    "        return numbers[i]\n",
    "    return 0"
   ]
  },
  {
   "cell_type": "code",
   "execution_count": 8,
   "metadata": {},
   "outputs": [],
   "source": [
    "def get_length(x):\n",
    "    length = 0\n",
    "    inch = re.search(r'\\binch\\b|\\binches\\b|\\bin\\b',x.lower())\n",
    "    if inch:\n",
    "        length = get_number(x[:inch.start()])\n",
    "        return float(length)*2.54\n",
    "    ft = re.search(r'\\bfeet\\b|\\bfeets\\b|\\bft\\b',x.lower())\n",
    "    if ft:\n",
    "        length = get_number(x[:ft.start()])\n",
    "        return float(length)*30.48\n",
    "    cm = re.search(r'\\bcm\\b|\\bcentimeters\\b|\\bcentimeter\\b|\\bcenti meter\\b|\\bcenti meters\\b',x.lower())\n",
    "    if cm:\n",
    "        length = get_number(x[:cm.start()])\n",
    "        return length\n",
    "    return get_number(x, 0)"
   ]
  },
  {
   "cell_type": "code",
   "execution_count": 9,
   "metadata": {},
   "outputs": [],
   "source": [
    "features_to_use = ['id', 'shortdescription', 'description', 'group', 'subgroup', 'variety', 'grade', 'color', 'length', 'boxtype']"
   ]
  },
  {
   "cell_type": "code",
   "execution_count": 10,
   "metadata": {},
   "outputs": [],
   "source": [
    "def tokenize_on_caps(x):\n",
    "    return ' '.join(re.findall('[A-Z,(1-9)][^A-Z]*', x))"
   ]
  },
  {
   "cell_type": "code",
   "execution_count": 11,
   "metadata": {},
   "outputs": [],
   "source": [
    "df = pd.DataFrame(data, columns=features_to_use)"
   ]
  },
  {
   "cell_type": "code",
   "execution_count": 12,
   "metadata": {},
   "outputs": [],
   "source": [
    "df['length'] = df['length'].apply(lambda x: get_length(x))\n",
    "df['color'] = df['color'].apply(lambda x: tokenize_on_caps(x))"
   ]
  },
  {
   "cell_type": "code",
   "execution_count": 13,
   "metadata": {},
   "outputs": [],
   "source": [
    "df['all'] = df[features_to_use[1:]].apply(lambda x: ' '.join(x.map(str)), axis=1)"
   ]
  },
  {
   "cell_type": "code",
   "execution_count": 14,
   "metadata": {},
   "outputs": [],
   "source": [
    "df['all'] = df['all'].apply(lambda x: re.sub('[^A-Za-z0-9 ]+', '', x.strip()))"
   ]
  },
  {
   "cell_type": "code",
   "execution_count": 15,
   "metadata": {},
   "outputs": [
    {
     "data": {
      "text/html": [
       "<div>\n",
       "<style scoped>\n",
       "    .dataframe tbody tr th:only-of-type {\n",
       "        vertical-align: middle;\n",
       "    }\n",
       "\n",
       "    .dataframe tbody tr th {\n",
       "        vertical-align: top;\n",
       "    }\n",
       "\n",
       "    .dataframe thead th {\n",
       "        text-align: right;\n",
       "    }\n",
       "</style>\n",
       "<table border=\"1\" class=\"dataframe\">\n",
       "  <thead>\n",
       "    <tr style=\"text-align: right;\">\n",
       "      <th></th>\n",
       "      <th>id</th>\n",
       "      <th>shortdescription</th>\n",
       "      <th>description</th>\n",
       "      <th>group</th>\n",
       "      <th>subgroup</th>\n",
       "      <th>variety</th>\n",
       "      <th>grade</th>\n",
       "      <th>color</th>\n",
       "      <th>length</th>\n",
       "      <th>boxtype</th>\n",
       "      <th>all</th>\n",
       "    </tr>\n",
       "  </thead>\n",
       "  <tbody>\n",
       "    <tr>\n",
       "      <th>0</th>\n",
       "      <td>e7a780c3-502c-405a-9d2c-9e9eb0b638f5</td>\n",
       "      <td></td>\n",
       "      <td></td>\n",
       "      <td>Fresh flowers</td>\n",
       "      <td>Mum Disbud</td>\n",
       "      <td>H30</td>\n",
       "      <td>Regular Wide</td>\n",
       "      <td>Xmas Green</td>\n",
       "      <td>110</td>\n",
       "      <td>Procona</td>\n",
       "      <td>Fresh flowers Mum Disbud H30 Regular Wide Xmas...</td>\n",
       "    </tr>\n",
       "    <tr>\n",
       "      <th>1</th>\n",
       "      <td>ea3ed24e-8912-4424-a517-88202697b094</td>\n",
       "      <td></td>\n",
       "      <td></td>\n",
       "      <td>Collateral materials</td>\n",
       "      <td>Curly</td>\n",
       "      <td>Minuet</td>\n",
       "      <td>Medium Narrow</td>\n",
       "      <td>Off White</td>\n",
       "      <td>65</td>\n",
       "      <td></td>\n",
       "      <td>Collateral materials Curly Minuet Medium Narro...</td>\n",
       "    </tr>\n",
       "  </tbody>\n",
       "</table>\n",
       "</div>"
      ],
      "text/plain": [
       "                                     id shortdescription description  \\\n",
       "0  e7a780c3-502c-405a-9d2c-9e9eb0b638f5                                \n",
       "1  ea3ed24e-8912-4424-a517-88202697b094                                \n",
       "\n",
       "                  group    subgroup variety          grade       color length  \\\n",
       "0         Fresh flowers  Mum Disbud     H30   Regular Wide  Xmas Green    110   \n",
       "1  Collateral materials       Curly  Minuet  Medium Narrow   Off White     65   \n",
       "\n",
       "    boxtype                                                all  \n",
       "0  Procona   Fresh flowers Mum Disbud H30 Regular Wide Xmas...  \n",
       "1            Collateral materials Curly Minuet Medium Narro...  "
      ]
     },
     "execution_count": 15,
     "metadata": {},
     "output_type": "execute_result"
    }
   ],
   "source": [
    "df.head(2)"
   ]
  },
  {
   "cell_type": "code",
   "execution_count": 16,
   "metadata": {},
   "outputs": [],
   "source": [
    "#Tokenizer\n",
    "import spacy\n",
    "from spacy.tokenizer import Tokenizer\n",
    "nlp = spacy.load('en')\n",
    "tokenizer = Tokenizer(nlp.vocab)"
   ]
  },
  {
   "cell_type": "code",
   "execution_count": 17,
   "metadata": {},
   "outputs": [],
   "source": [
    "doc1 = nlp(df['all'][0])"
   ]
  },
  {
   "cell_type": "code",
   "execution_count": 18,
   "metadata": {},
   "outputs": [
    {
     "data": {
      "text/plain": [
       "Fresh flowers Mum Disbud H30 Regular Wide Xmas Green 110 Procona"
      ]
     },
     "execution_count": 18,
     "metadata": {},
     "output_type": "execute_result"
    }
   ],
   "source": [
    "doc1"
   ]
  },
  {
   "cell_type": "code",
   "execution_count": 19,
   "metadata": {},
   "outputs": [
    {
     "data": {
      "text/plain": [
       "'Fresh flowers Daisy Luna Regular Wide Lavender Dyed Yellow 120 Hamper'"
      ]
     },
     "execution_count": 19,
     "metadata": {},
     "output_type": "execute_result"
    }
   ],
   "source": [
    "df['all'][462]"
   ]
  },
  {
   "cell_type": "code",
   "execution_count": 20,
   "metadata": {},
   "outputs": [],
   "source": [
    "highest_similarity = list()"
   ]
  },
  {
   "cell_type": "code",
   "execution_count": 21,
   "metadata": {},
   "outputs": [],
   "source": [
    "for i in range (len(df)):\n",
    "    docN = nlp(df['all'][i])\n",
    "    similarity = doc1.similarity(docN) \n",
    "    #print(i, similarity)\n",
    "    if similarity > 0.94:\n",
    "        highest_similarity.append((i, similarity))"
   ]
  },
  {
   "cell_type": "code",
   "execution_count": 22,
   "metadata": {},
   "outputs": [
    {
     "data": {
      "text/plain": [
       "[(0, 1.0), (462, 0.9409930804394734)]"
      ]
     },
     "execution_count": 22,
     "metadata": {},
     "output_type": "execute_result"
    }
   ],
   "source": [
    "highest_similarity"
   ]
  },
  {
   "cell_type": "code",
   "execution_count": 23,
   "metadata": {},
   "outputs": [],
   "source": [
    "df_for_processing = df[['id', 'all']]"
   ]
  },
  {
   "cell_type": "code",
   "execution_count": 28,
   "metadata": {},
   "outputs": [
    {
     "data": {
      "text/plain": [
       "0    Fresh flowers Mum Disbud H30 Regular Wide Xmas...\n",
       "1    Collateral materials Curly Minuet Medium Narro...\n",
       "2    Premade bouquets Wreath Magical Bluebells Doub...\n",
       "Name: all, dtype: object"
      ]
     },
     "execution_count": 28,
     "metadata": {},
     "output_type": "execute_result"
    }
   ],
   "source": [
    "df_for_processing['all'].head(3)"
   ]
  },
  {
   "cell_type": "code",
   "execution_count": 93,
   "metadata": {},
   "outputs": [
    {
     "name": "stdout",
     "output_type": "stream",
     "text": [
      "Fresh fresh\n",
      "flowers flower\n",
      "Mum mum\n",
      "Disbud disbud\n",
      "H30 h30\n",
      "Regular regular\n",
      "Wide wide\n",
      "Xmas xmas\n",
      "Green green\n",
      "110 110\n",
      "Procona procona\n"
     ]
    }
   ],
   "source": [
    "for token in doc1:\n",
    "    print(str(token.text) + \" \" + str(token.lemma_))"
   ]
  },
  {
   "cell_type": "code",
   "execution_count": 95,
   "metadata": {},
   "outputs": [],
   "source": [
    "df.to_csv('./processed_product_data.csv')"
   ]
  },
  {
   "cell_type": "code",
   "execution_count": null,
   "metadata": {},
   "outputs": [],
   "source": []
  }
 ],
 "metadata": {
  "kernelspec": {
   "display_name": "Python 3",
   "language": "python",
   "name": "python3"
  },
  "language_info": {
   "codemirror_mode": {
    "name": "ipython",
    "version": 3
   },
   "file_extension": ".py",
   "mimetype": "text/x-python",
   "name": "python",
   "nbconvert_exporter": "python",
   "pygments_lexer": "ipython3",
   "version": "3.7.1"
  }
 },
 "nbformat": 4,
 "nbformat_minor": 2
}
