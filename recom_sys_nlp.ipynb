{
 "cells": [
  {
   "cell_type": "code",
   "execution_count": 1,
   "metadata": {},
   "outputs": [],
   "source": [
    "import spacy\n",
    "\n",
    "import numpy as np\n",
    "\n",
    "import pandas as pd"
   ]
  },
  {
   "cell_type": "code",
   "execution_count": 2,
   "metadata": {},
   "outputs": [],
   "source": [
    "nlp = spacy.load('en_core_web_lg')"
   ]
  },
  {
   "cell_type": "code",
   "execution_count": 5,
   "metadata": {},
   "outputs": [],
   "source": [
    "processed_data = pd.read_csv('./processed_product_data.csv', index_col='id', usecols=['id','all'])"
   ]
  },
  {
   "cell_type": "code",
   "execution_count": 8,
   "metadata": {},
   "outputs": [
    {
     "data": {
      "text/plain": [
       "id\n",
       "e7a780c3-502c-405a-9d2c-9e9eb0b638f5    Fresh flowers Mum Disbud H30 Regular Wide Xmas...\n",
       "ea3ed24e-8912-4424-a517-88202697b094    Collateral materials Curly Minuet Medium Narro...\n",
       "85fe47e7-a44d-498e-82cf-36d654668360    Premade bouquets Wreath Magical Bluebells Doub...\n",
       "04f206e1-3198-4fdb-975a-2138aba547b4    Collateral materials Flax White Needle Mega Re...\n",
       "b4ac0ef3-1a7f-4549-b6f8-80fcd8b7d3ed    Cut Greens Rose Cream Cascade 1 Bl SPX Yellow ...\n",
       "Name: all, dtype: object"
      ]
     },
     "execution_count": 8,
     "metadata": {},
     "output_type": "execute_result"
    }
   ],
   "source": [
    "processed_data['all'].head()"
   ]
  },
  {
   "cell_type": "code",
   "execution_count": 14,
   "metadata": {},
   "outputs": [],
   "source": [
    "all_text = processed_data['all'].values"
   ]
  },
  {
   "cell_type": "code",
   "execution_count": 16,
   "metadata": {},
   "outputs": [],
   "source": [
    "# Covert our text to vectors\n",
    "\n",
    "def get_word_vectors(words):\n",
    "    # converts a list of words into their word vectors\n",
    "    return [nlp(word).vector for word in words]\n",
    "\n",
    "all_text_vectors = get_word_vectors(all_text)"
   ]
  },
  {
   "cell_type": "code",
   "execution_count": 25,
   "metadata": {},
   "outputs": [],
   "source": [
    "# Build a Nearest Neighbors model that will do all of the similarity searching stuff for us 😱\n",
    "\n",
    "# import the NearestNeighbors module form sklearn\n",
    "\n",
    "from sklearn.neighbors import NearestNeighbors\n",
    "\n",
    "NUMBER_OF_NEIGHBORS = 5\n",
    "\n",
    "neig_model = NearestNeighbors(n_neighbors=NUMBER_OF_NEIGHBORS)"
   ]
  },
  {
   "cell_type": "code",
   "execution_count": 26,
   "metadata": {},
   "outputs": [
    {
     "data": {
      "text/plain": [
       "NearestNeighbors(algorithm='auto', leaf_size=30, metric='minkowski',\n",
       "         metric_params=None, n_jobs=None, n_neighbors=5, p=2, radius=1.0)"
      ]
     },
     "execution_count": 26,
     "metadata": {},
     "output_type": "execute_result"
    }
   ],
   "source": [
    "# fit the model to your vectors\n",
    "neig_model.fit(all_text_vectors)"
   ]
  },
  {
   "cell_type": "code",
   "execution_count": 28,
   "metadata": {},
   "outputs": [
    {
     "data": {
      "text/plain": [
       "array(['Fresh flowers Mum Disbud H30 Regular Wide Xmas Green 110 Procona',\n",
       "       'Fresh flowers Centaurea Manon Bundle Xmas Green 35 Procona',\n",
       "       'Fresh flowers Germini Pacific Bernary 250 Grms Orange Garden 12192 FB',\n",
       "       'Fresh flowers Eryngium Itsaparty Regular Bicolor Creme Pink 45 Tray',\n",
       "       'Fresh flowers Aethiopica Diletta Cream 7 plus BL Purple Bicolor 48 Box Type'],\n",
       "      dtype=object)"
      ]
     },
     "execution_count": 28,
     "metadata": {},
     "output_type": "execute_result"
    }
   ],
   "source": [
    "dist, ind = neig_model.kneighbors([nlp('Fresh flowers Mum Disbud H30 Regular Wide Xmas Green 110 Procona').vector])\n",
    "\n",
    "# the indices list are wrapped in a list, that's why we need to use ind[0]\n",
    "np.take(all_text, ind[0]) "
   ]
  },
  {
   "cell_type": "code",
   "execution_count": 98,
   "metadata": {},
   "outputs": [
    {
     "data": {
      "text/plain": [
       "array(['Fresh flowers Mum Disbud H30 Regular Wide Xmas Green 110 Procona',\n",
       "       'Fresh flowers Centaurea Manon Bundle Xmas Green 35 Procona',\n",
       "       'Fresh flowers Germini Pacific Bernary 250 Grms Orange Garden 12192 FB',\n",
       "       'Fresh flowers Amaranthus Hanging Cote DAzur 2022 cm Green Bicolor 80 Procona Large',\n",
       "       'Fresh flowers Eryngium Itsaparty Regular Bicolor Creme Pink 45 Tray'],\n",
       "      dtype=object)"
      ]
     },
     "execution_count": 98,
     "metadata": {},
     "output_type": "execute_result"
    }
   ],
   "source": [
    "dist, ind = neig_model.kneighbors([nlp('Fresher flowers Mum Disbud H30 Regular Wide Xmas Green 110 Procona').vector])\n",
    "np.take(all_text, ind[0])"
   ]
  },
  {
   "cell_type": "code",
   "execution_count": 96,
   "metadata": {},
   "outputs": [],
   "source": [
    "def get_product_id(products, df, col='all'):\n",
    "    index_l = list()\n",
    "    for each_product in products:\n",
    "        index_l.append(df[df[col] == each_product].index[0])\n",
    "    return index_l"
   ]
  },
  {
   "cell_type": "code",
   "execution_count": null,
   "metadata": {},
   "outputs": [],
   "source": []
  }
 ],
 "metadata": {
  "kernelspec": {
   "display_name": "Python 3",
   "language": "python",
   "name": "python3"
  },
  "language_info": {
   "codemirror_mode": {
    "name": "ipython",
    "version": 3
   },
   "file_extension": ".py",
   "mimetype": "text/x-python",
   "name": "python",
   "nbconvert_exporter": "python",
   "pygments_lexer": "ipython3",
   "version": "3.5.2"
  }
 },
 "nbformat": 4,
 "nbformat_minor": 2
}
